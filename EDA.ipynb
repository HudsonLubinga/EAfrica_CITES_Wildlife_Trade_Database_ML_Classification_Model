{
 "cells": [
  {
   "cell_type": "markdown",
   "id": "b0ae1bcb",
   "metadata": {},
   "source": [
    "# Machine Learning Classification Model for Identifying Wildlife Species in East Africa"
   ]
  },
  {
   "cell_type": "markdown",
   "id": "a5b3365b",
   "metadata": {},
   "source": [
    "## 1. Data Collection: \n",
    "We collected a comprehensive and accurate dataset of taxonomic features and other characteristics of wildlife species obtained from East African countries between 2018 and 2021 from CITES Wildlife Trade Database (https://www.kaggle.com/datasets/cites/cites-wildlife-trade-database)"
   ]
  },
  {
   "cell_type": "markdown",
   "id": "e76a94b7",
   "metadata": {},
   "source": [
    "## 2. Data Pre-processing: \n",
    "Cleaning and pre-processing the dataset by handling missing values, data normalization, and data scaling to ensure that the data is ready for training the machine learning models."
   ]
  },
  {
   "cell_type": "code",
   "execution_count": 2,
   "id": "3b975402",
   "metadata": {},
   "outputs": [],
   "source": [
    "# import libraries\n",
    "import pandas as pd\n",
    "import numpy as np\n",
    "from sklearn.impute import SimpleImputer\n",
    "from sklearn.preprocessing import LabelEncoder, StandardScaler"
   ]
  },
  {
   "cell_type": "markdown",
   "id": "e1a93162",
   "metadata": {},
   "source": [
    "- Pandas is a popular library for data manipulation and analysis.\n",
    "- NumPy is a library for working with arrays and matrices in Python.\n",
    "- SimpleImputer is a class in scikit-learn library that is used for handling missing data in a dataset.\n",
    "- LabelEncoder is a class in scikit-learn library that is used to encode categorical variables into numerical variables.\n",
    "- StandardScaler is a class in scikit-learn library that is used for scaling numerical variables."
   ]
  },
  {
   "cell_type": "code",
   "execution_count": 3,
   "id": "c41a0b88",
   "metadata": {},
   "outputs": [
    {
     "data": {
      "text/html": [
       "<div>\n",
       "<style scoped>\n",
       "    .dataframe tbody tr th:only-of-type {\n",
       "        vertical-align: middle;\n",
       "    }\n",
       "\n",
       "    .dataframe tbody tr th {\n",
       "        vertical-align: top;\n",
       "    }\n",
       "\n",
       "    .dataframe thead th {\n",
       "        text-align: right;\n",
       "    }\n",
       "</style>\n",
       "<table border=\"1\" class=\"dataframe\">\n",
       "  <thead>\n",
       "    <tr style=\"text-align: right;\">\n",
       "      <th></th>\n",
       "      <th>Year</th>\n",
       "      <th>App.</th>\n",
       "      <th>Taxon</th>\n",
       "      <th>Class</th>\n",
       "      <th>Order</th>\n",
       "      <th>Family</th>\n",
       "      <th>Genus</th>\n",
       "      <th>Importer</th>\n",
       "      <th>Exporter</th>\n",
       "      <th>Origin</th>\n",
       "      <th>Importer reported quantity</th>\n",
       "      <th>Exporter reported quantity</th>\n",
       "      <th>Term</th>\n",
       "      <th>Unit</th>\n",
       "      <th>Purpose</th>\n",
       "      <th>Source</th>\n",
       "    </tr>\n",
       "  </thead>\n",
       "  <tbody>\n",
       "    <tr>\n",
       "      <th>0</th>\n",
       "      <td>2018</td>\n",
       "      <td>I</td>\n",
       "      <td>Elephantidae spp.</td>\n",
       "      <td>Mammalia</td>\n",
       "      <td>Proboscidea</td>\n",
       "      <td>Elephantidae</td>\n",
       "      <td>NaN</td>\n",
       "      <td>CA</td>\n",
       "      <td>KE</td>\n",
       "      <td>NaN</td>\n",
       "      <td>32.0</td>\n",
       "      <td>NaN</td>\n",
       "      <td>ivory carvings</td>\n",
       "      <td>NaN</td>\n",
       "      <td>P</td>\n",
       "      <td>W</td>\n",
       "    </tr>\n",
       "    <tr>\n",
       "      <th>1</th>\n",
       "      <td>2018</td>\n",
       "      <td>I</td>\n",
       "      <td>Loxodonta africana</td>\n",
       "      <td>Mammalia</td>\n",
       "      <td>Proboscidea</td>\n",
       "      <td>Elephantidae</td>\n",
       "      <td>Loxodonta</td>\n",
       "      <td>CA</td>\n",
       "      <td>KE</td>\n",
       "      <td>XX</td>\n",
       "      <td>NaN</td>\n",
       "      <td>32.0</td>\n",
       "      <td>ivory carvings</td>\n",
       "      <td>NaN</td>\n",
       "      <td>P</td>\n",
       "      <td>W</td>\n",
       "    </tr>\n",
       "    <tr>\n",
       "      <th>2</th>\n",
       "      <td>2018</td>\n",
       "      <td>I</td>\n",
       "      <td>Loxodonta africana</td>\n",
       "      <td>Mammalia</td>\n",
       "      <td>Proboscidea</td>\n",
       "      <td>Elephantidae</td>\n",
       "      <td>Loxodonta</td>\n",
       "      <td>CO</td>\n",
       "      <td>TZ</td>\n",
       "      <td>ZA</td>\n",
       "      <td>20.0</td>\n",
       "      <td>NaN</td>\n",
       "      <td>trophies</td>\n",
       "      <td>NaN</td>\n",
       "      <td>H</td>\n",
       "      <td>W</td>\n",
       "    </tr>\n",
       "    <tr>\n",
       "      <th>3</th>\n",
       "      <td>2018</td>\n",
       "      <td>I</td>\n",
       "      <td>Loxodonta africana</td>\n",
       "      <td>Mammalia</td>\n",
       "      <td>Proboscidea</td>\n",
       "      <td>Elephantidae</td>\n",
       "      <td>Loxodonta</td>\n",
       "      <td>DE</td>\n",
       "      <td>TZ</td>\n",
       "      <td>NaN</td>\n",
       "      <td>2.0</td>\n",
       "      <td>2.0</td>\n",
       "      <td>tusks</td>\n",
       "      <td>NaN</td>\n",
       "      <td>H</td>\n",
       "      <td>W</td>\n",
       "    </tr>\n",
       "    <tr>\n",
       "      <th>4</th>\n",
       "      <td>2018</td>\n",
       "      <td>I</td>\n",
       "      <td>Loxodonta africana</td>\n",
       "      <td>Mammalia</td>\n",
       "      <td>Proboscidea</td>\n",
       "      <td>Elephantidae</td>\n",
       "      <td>Loxodonta</td>\n",
       "      <td>FR</td>\n",
       "      <td>TZ</td>\n",
       "      <td>NaN</td>\n",
       "      <td>2.0</td>\n",
       "      <td>NaN</td>\n",
       "      <td>trophies</td>\n",
       "      <td>NaN</td>\n",
       "      <td>H</td>\n",
       "      <td>W</td>\n",
       "    </tr>\n",
       "  </tbody>\n",
       "</table>\n",
       "</div>"
      ],
      "text/plain": [
       "   Year App.               Taxon     Class        Order        Family  \\\n",
       "0  2018    I   Elephantidae spp.  Mammalia  Proboscidea  Elephantidae   \n",
       "1  2018    I  Loxodonta africana  Mammalia  Proboscidea  Elephantidae   \n",
       "2  2018    I  Loxodonta africana  Mammalia  Proboscidea  Elephantidae   \n",
       "3  2018    I  Loxodonta africana  Mammalia  Proboscidea  Elephantidae   \n",
       "4  2018    I  Loxodonta africana  Mammalia  Proboscidea  Elephantidae   \n",
       "\n",
       "       Genus Importer Exporter Origin  Importer reported quantity  \\\n",
       "0        NaN       CA       KE    NaN                        32.0   \n",
       "1  Loxodonta       CA       KE     XX                         NaN   \n",
       "2  Loxodonta       CO       TZ     ZA                        20.0   \n",
       "3  Loxodonta       DE       TZ    NaN                         2.0   \n",
       "4  Loxodonta       FR       TZ    NaN                         2.0   \n",
       "\n",
       "   Exporter reported quantity            Term Unit Purpose Source  \n",
       "0                         NaN  ivory carvings  NaN       P      W  \n",
       "1                        32.0  ivory carvings  NaN       P      W  \n",
       "2                         NaN        trophies  NaN       H      W  \n",
       "3                         2.0           tusks  NaN       H      W  \n",
       "4                         NaN        trophies  NaN       H      W  "
      ]
     },
     "execution_count": 3,
     "metadata": {},
     "output_type": "execute_result"
    }
   ],
   "source": [
    "df = pd.read_csv('comptab_2023-02-19 20_06_comma_separated_eat_africa.csv')\n",
    "df.head() # display the first 5 rows of the dataset"
   ]
  },
  {
   "cell_type": "code",
   "execution_count": 4,
   "id": "4f0e4978",
   "metadata": {},
   "outputs": [
    {
     "name": "stdout",
     "output_type": "stream",
     "text": [
      "<class 'pandas.core.frame.DataFrame'>\n",
      "RangeIndex: 1892 entries, 0 to 1891\n",
      "Data columns (total 16 columns):\n",
      " #   Column                      Non-Null Count  Dtype  \n",
      "---  ------                      --------------  -----  \n",
      " 0   Year                        1892 non-null   int64  \n",
      " 1   App.                        1892 non-null   object \n",
      " 2   Taxon                       1892 non-null   object \n",
      " 3   Class                       1293 non-null   object \n",
      " 4   Order                       1892 non-null   object \n",
      " 5   Family                      1889 non-null   object \n",
      " 6   Genus                       1886 non-null   object \n",
      " 7   Importer                    1892 non-null   object \n",
      " 8   Exporter                    1892 non-null   object \n",
      " 9   Origin                      163 non-null    object \n",
      " 10  Importer reported quantity  955 non-null    float64\n",
      " 11  Exporter reported quantity  1321 non-null   float64\n",
      " 12  Term                        1892 non-null   object \n",
      " 13  Unit                        910 non-null    object \n",
      " 14  Purpose                     1879 non-null   object \n",
      " 15  Source                      1871 non-null   object \n",
      "dtypes: float64(2), int64(1), object(13)\n",
      "memory usage: 236.6+ KB\n"
     ]
    }
   ],
   "source": [
    "df.info() # display information about the dataset"
   ]
  },
  {
   "cell_type": "code",
   "execution_count": 5,
   "id": "4f3824c0",
   "metadata": {
    "scrolled": true
   },
   "outputs": [
    {
     "data": {
      "text/html": [
       "<div>\n",
       "<style scoped>\n",
       "    .dataframe tbody tr th:only-of-type {\n",
       "        vertical-align: middle;\n",
       "    }\n",
       "\n",
       "    .dataframe tbody tr th {\n",
       "        vertical-align: top;\n",
       "    }\n",
       "\n",
       "    .dataframe thead th {\n",
       "        text-align: right;\n",
       "    }\n",
       "</style>\n",
       "<table border=\"1\" class=\"dataframe\">\n",
       "  <thead>\n",
       "    <tr style=\"text-align: right;\">\n",
       "      <th></th>\n",
       "      <th>Year</th>\n",
       "      <th>Importer reported quantity</th>\n",
       "      <th>Exporter reported quantity</th>\n",
       "    </tr>\n",
       "  </thead>\n",
       "  <tbody>\n",
       "    <tr>\n",
       "      <th>count</th>\n",
       "      <td>1892.000000</td>\n",
       "      <td>9.550000e+02</td>\n",
       "      <td>1.321000e+03</td>\n",
       "    </tr>\n",
       "    <tr>\n",
       "      <th>mean</th>\n",
       "      <td>2019.354651</td>\n",
       "      <td>1.896848e+04</td>\n",
       "      <td>3.091529e+04</td>\n",
       "    </tr>\n",
       "    <tr>\n",
       "      <th>std</th>\n",
       "      <td>1.082779</td>\n",
       "      <td>1.065435e+05</td>\n",
       "      <td>1.770868e+05</td>\n",
       "    </tr>\n",
       "    <tr>\n",
       "      <th>min</th>\n",
       "      <td>2018.000000</td>\n",
       "      <td>2.000000e-03</td>\n",
       "      <td>1.000000e+00</td>\n",
       "    </tr>\n",
       "    <tr>\n",
       "      <th>25%</th>\n",
       "      <td>2018.000000</td>\n",
       "      <td>3.000000e+00</td>\n",
       "      <td>5.000000e+00</td>\n",
       "    </tr>\n",
       "    <tr>\n",
       "      <th>50%</th>\n",
       "      <td>2019.000000</td>\n",
       "      <td>3.200000e+01</td>\n",
       "      <td>5.596000e+01</td>\n",
       "    </tr>\n",
       "    <tr>\n",
       "      <th>75%</th>\n",
       "      <td>2020.000000</td>\n",
       "      <td>5.000000e+02</td>\n",
       "      <td>6.800000e+02</td>\n",
       "    </tr>\n",
       "    <tr>\n",
       "      <th>max</th>\n",
       "      <td>2021.000000</td>\n",
       "      <td>1.540000e+06</td>\n",
       "      <td>3.294000e+06</td>\n",
       "    </tr>\n",
       "  </tbody>\n",
       "</table>\n",
       "</div>"
      ],
      "text/plain": [
       "              Year  Importer reported quantity  Exporter reported quantity\n",
       "count  1892.000000                9.550000e+02                1.321000e+03\n",
       "mean   2019.354651                1.896848e+04                3.091529e+04\n",
       "std       1.082779                1.065435e+05                1.770868e+05\n",
       "min    2018.000000                2.000000e-03                1.000000e+00\n",
       "25%    2018.000000                3.000000e+00                5.000000e+00\n",
       "50%    2019.000000                3.200000e+01                5.596000e+01\n",
       "75%    2020.000000                5.000000e+02                6.800000e+02\n",
       "max    2021.000000                1.540000e+06                3.294000e+06"
      ]
     },
     "execution_count": 5,
     "metadata": {},
     "output_type": "execute_result"
    }
   ],
   "source": [
    "df.describe() # display summary statistics of the dataset"
   ]
  },
  {
   "cell_type": "code",
   "execution_count": 6,
   "id": "5e14be9b",
   "metadata": {
    "scrolled": true
   },
   "outputs": [
    {
     "data": {
      "text/plain": [
       "Year                             0\n",
       "App.                             0\n",
       "Taxon                            0\n",
       "Class                          599\n",
       "Order                            0\n",
       "Family                           3\n",
       "Genus                            6\n",
       "Importer                         0\n",
       "Exporter                         0\n",
       "Origin                        1729\n",
       "Importer reported quantity     937\n",
       "Exporter reported quantity     571\n",
       "Term                             0\n",
       "Unit                           982\n",
       "Purpose                         13\n",
       "Source                          21\n",
       "dtype: int64"
      ]
     },
     "execution_count": 6,
     "metadata": {},
     "output_type": "execute_result"
    }
   ],
   "source": [
    "df.isnull().sum() # check for missing values in the dataset"
   ]
  },
  {
   "cell_type": "markdown",
   "id": "0bb6c199",
   "metadata": {},
   "source": [
    "Based on the information from the info() method and the isnull().sum() method, we can see that there are missing values in several columns of the dataset."
   ]
  },
  {
   "cell_type": "markdown",
   "id": "e4026287",
   "metadata": {},
   "source": [
    "<b>Drop irrelevant columns:</b> If the column has more than 50% of the missing values and is not very important for the analysis, we can drop it entirely. In this case, the \"Origin\" column has 91% of its values missing, and the \"Unit\" column has 52% of its values missing. So, we can drop these columns using the drop() method in pandas:"
   ]
  },
  {
   "cell_type": "code",
   "execution_count": 7,
   "id": "cb384bca",
   "metadata": {},
   "outputs": [],
   "source": [
    "df = df.drop([\"Origin\", \"Unit\"], axis=1)"
   ]
  },
  {
   "cell_type": "markdown",
   "id": "67ad0108",
   "metadata": {},
   "source": [
    "<b>Drop rows with missing values:</b> If the number of missing values in a row is small, we can simply drop the row entirely. In this case, the \"Purpose\" and \"Source\" columns have only a few missing values, so we can drop those rows:"
   ]
  },
  {
   "cell_type": "code",
   "execution_count": 8,
   "id": "718b9a3b",
   "metadata": {},
   "outputs": [],
   "source": [
    "df = df.dropna(subset=[\"Purpose\", \"Source\"])"
   ]
  },
  {
   "cell_type": "markdown",
   "id": "88d60f34",
   "metadata": {},
   "source": [
    "<b>Fill missing values with mean or median:</b> If the column has numeric data, we can replace the missing values with the mean or median of the non-missing values. In this case, the \"Importer reported quantity\" and \"Exporter reported quantity\" columns have missing values, and they are numeric, so we can fill the missing values with the median of the non-missing values:"
   ]
  },
  {
   "cell_type": "markdown",
   "id": "79eedf8d",
   "metadata": {},
   "source": [
    "<b>NOTE:</b> We are choosing the median instead of the mean in step 3 to handle missing values because median is less sensitive to outliers than mean. If there are outliers in the data, they can significantly affect the mean and give us a misleading representation of the data. However, median is not affected by the outliers and provides a more robust measure of central tendency. In this dataset, we cannot assume that there are no outliers, hence we choose the median over the mean."
   ]
  },
  {
   "cell_type": "code",
   "execution_count": 9,
   "id": "be678c7a",
   "metadata": {},
   "outputs": [],
   "source": [
    "df[\"Importer reported quantity\"] = df[\"Importer reported quantity\"].fillna(df[\"Importer reported quantity\"].median())\n",
    "df[\"Exporter reported quantity\"] = df[\"Exporter reported quantity\"].fillna(df[\"Exporter reported quantity\"].median())\n"
   ]
  },
  {
   "cell_type": "markdown",
   "id": "23e65746",
   "metadata": {},
   "source": [
    "<b>Fill missing values with mode:</b> If the column has categorical data, we can replace the missing values with the mode (most frequent value) of the non-missing values. In this case, the \"Class\", \"Family\", and \"Genus\" columns have missing values, and they are categorical, so we can fill the missing values with the mode:"
   ]
  },
  {
   "cell_type": "code",
   "execution_count": 10,
   "id": "5a7a3009",
   "metadata": {},
   "outputs": [],
   "source": [
    "df[\"Class\"] = df[\"Class\"].fillna(df[\"Class\"].mode()[0])\n",
    "df[\"Family\"] = df[\"Family\"].fillna(df[\"Family\"].mode()[0])\n",
    "df[\"Genus\"] = df[\"Genus\"].fillna(df[\"Genus\"].mode()[0])"
   ]
  },
  {
   "cell_type": "code",
   "execution_count": 11,
   "id": "266e21b1",
   "metadata": {},
   "outputs": [
    {
     "data": {
      "text/plain": [
       "Year                          0\n",
       "App.                          0\n",
       "Taxon                         0\n",
       "Class                         0\n",
       "Order                         0\n",
       "Family                        0\n",
       "Genus                         0\n",
       "Importer                      0\n",
       "Exporter                      0\n",
       "Importer reported quantity    0\n",
       "Exporter reported quantity    0\n",
       "Term                          0\n",
       "Purpose                       0\n",
       "Source                        0\n",
       "dtype: int64"
      ]
     },
     "execution_count": 11,
     "metadata": {},
     "output_type": "execute_result"
    }
   ],
   "source": [
    "# Check again for missing values using isnull().sum() to ensure that all missing values have been handled.\n",
    "df.isnull().sum()"
   ]
  },
  {
   "cell_type": "code",
   "execution_count": 12,
   "id": "54c2e637",
   "metadata": {},
   "outputs": [
    {
     "name": "stdout",
     "output_type": "stream",
     "text": [
      "<class 'pandas.core.frame.DataFrame'>\n",
      "Int64Index: 1870 entries, 0 to 1891\n",
      "Data columns (total 14 columns):\n",
      " #   Column                      Non-Null Count  Dtype  \n",
      "---  ------                      --------------  -----  \n",
      " 0   Year                        1870 non-null   int64  \n",
      " 1   App.                        1870 non-null   object \n",
      " 2   Taxon                       1870 non-null   object \n",
      " 3   Class                       1870 non-null   object \n",
      " 4   Order                       1870 non-null   object \n",
      " 5   Family                      1870 non-null   object \n",
      " 6   Genus                       1870 non-null   object \n",
      " 7   Importer                    1870 non-null   object \n",
      " 8   Exporter                    1870 non-null   object \n",
      " 9   Importer reported quantity  1870 non-null   float64\n",
      " 10  Exporter reported quantity  1870 non-null   float64\n",
      " 11  Term                        1870 non-null   object \n",
      " 12  Purpose                     1870 non-null   object \n",
      " 13  Source                      1870 non-null   object \n",
      "dtypes: float64(2), int64(1), object(11)\n",
      "memory usage: 219.1+ KB\n"
     ]
    }
   ],
   "source": [
    "df.info()"
   ]
  },
  {
   "cell_type": "markdown",
   "id": "31bd6498",
   "metadata": {},
   "source": [
    "#### Encode categorical variables into numerical variables\n",
    "Categorical variables represent qualitative data, such as species names or country names, and cannot be used directly in most machine learning algorithms, which require numerical input. Therefore, we need to encode categorical variables into numerical variables.\n",
    "\n",
    "By encoding categorical variables into numerical variables, we can include them in the input features of the machine learning model and enable the model to learn patterns and make predictions based on those patterns."
   ]
  },
  {
   "cell_type": "markdown",
   "id": "b9d48aeb",
   "metadata": {},
   "source": [
    "Before we can encode categorical variables into numerical variables, we need to first identify the categorical variables in the dataset. From the df.info() result, we can see that there are 11 object-type columns which are likely to contain categorical variables that need encoding. The 11 object-type columns are:\n",
    "\n",
    "1. App.\n",
    "2. Taxon\n",
    "3. Class\n",
    "4. Order\n",
    "5. Family\n",
    "6. Genus\n",
    "7. Importer\n",
    "8. Exporter\n",
    "9. Term\n",
    "10. Purpose\n",
    "11. Source\n",
    "\n",
    "To encode these categorical variables into numerical variables, we will use the LabelEncoder from the sklearn.preprocessing module. LabelEncoder will convert each categorical value in a column to a unique numerical value. Here are the steps to encode the categorical variables:"
   ]
  },
  {
   "cell_type": "markdown",
   "id": "21be80cb",
   "metadata": {},
   "source": [
    "<strong>NOTE:</strong> We choose LabelEncoder for encoding categorical variables when we have ordinal categorical variables, which are variables that have a clear order or hierarchy among their categories. LabelEncoder assigns a unique integer to each category in the variable, based on their order or hierarchy. This is suitable for ordinal variables because the assigned integer values will preserve the order of the categories, and this order will be reflected in the encoded values.\n",
    "\n",
    "In contrast, other encoders like OneHotEncoder and BinaryEncoder are suitable for nominal categorical variables, which are variables with no intrinsic order or hierarchy among their categories. OneHotEncoder creates a binary column for each category and assigns a value of 1 to the column corresponding to the category for each row, and 0 to all other columns. BinaryEncoder creates binary codes for each category by assigning a unique binary code to each integer assigned to the categories.\n",
    "\n",
    "Therefore, since the dataset provided includes ordinal categorical variables such as \"Class\", \"Term\", \"Purpose\", and \"Source\", we choose to use LabelEncoder to encode these variables."
   ]
  },
  {
   "cell_type": "code",
   "execution_count": 13,
   "id": "6ff7cc89",
   "metadata": {},
   "outputs": [],
   "source": [
    "# Import the required libraries\n",
    "from sklearn.preprocessing import LabelEncoder \n",
    "# Create an instance of the LabelEncoder\n",
    "le = LabelEncoder() \n",
    "# Encode each categorical column using the fit_transform() method of the LabelEncoder instance.\n",
    "df['App.'] = le.fit_transform(df['App.'])\n",
    "df['Taxon'] = le.fit_transform(df['Taxon'])\n",
    "df['Class'] = le.fit_transform(df['Class'])\n",
    "df['Order'] = le.fit_transform(df['Order'])\n",
    "df['Family'] = le.fit_transform(df['Family'])\n",
    "df['Genus'] = le.fit_transform(df['Genus'])\n",
    "df['Importer'] = le.fit_transform(df['Importer'])\n",
    "df['Exporter'] = le.fit_transform(df['Exporter'])\n",
    "df['Term'] = le.fit_transform(df['Term'])\n",
    "df['Purpose'] = le.fit_transform(df['Purpose'])\n",
    "df['Source'] = le.fit_transform(df['Source'])"
   ]
  },
  {
   "cell_type": "code",
   "execution_count": 14,
   "id": "19769c51",
   "metadata": {},
   "outputs": [
    {
     "name": "stdout",
     "output_type": "stream",
     "text": [
      "Year                            int64\n",
      "App.                            int32\n",
      "Taxon                           int32\n",
      "Class                           int32\n",
      "Order                           int32\n",
      "Family                          int32\n",
      "Genus                           int32\n",
      "Importer                        int32\n",
      "Exporter                        int32\n",
      "Importer reported quantity    float64\n",
      "Exporter reported quantity    float64\n",
      "Term                            int32\n",
      "Purpose                         int32\n",
      "Source                          int32\n",
      "dtype: object\n"
     ]
    }
   ],
   "source": [
    "# Check the data types of the columns to confirm that the categorical variables have been encoded to numerical variables.\n",
    "print(df.dtypes)"
   ]
  },
  {
   "cell_type": "code",
   "execution_count": 15,
   "id": "a791218c",
   "metadata": {
    "scrolled": true
   },
   "outputs": [
    {
     "data": {
      "text/html": [
       "<div>\n",
       "<style scoped>\n",
       "    .dataframe tbody tr th:only-of-type {\n",
       "        vertical-align: middle;\n",
       "    }\n",
       "\n",
       "    .dataframe tbody tr th {\n",
       "        vertical-align: top;\n",
       "    }\n",
       "\n",
       "    .dataframe thead th {\n",
       "        text-align: right;\n",
       "    }\n",
       "</style>\n",
       "<table border=\"1\" class=\"dataframe\">\n",
       "  <thead>\n",
       "    <tr style=\"text-align: right;\">\n",
       "      <th></th>\n",
       "      <th>Year</th>\n",
       "      <th>App.</th>\n",
       "      <th>Taxon</th>\n",
       "      <th>Class</th>\n",
       "      <th>Order</th>\n",
       "      <th>Family</th>\n",
       "      <th>Genus</th>\n",
       "      <th>Importer</th>\n",
       "      <th>Exporter</th>\n",
       "      <th>Importer reported quantity</th>\n",
       "      <th>Exporter reported quantity</th>\n",
       "      <th>Term</th>\n",
       "      <th>Purpose</th>\n",
       "      <th>Source</th>\n",
       "    </tr>\n",
       "  </thead>\n",
       "  <tbody>\n",
       "    <tr>\n",
       "      <th>0</th>\n",
       "      <td>2018</td>\n",
       "      <td>0</td>\n",
       "      <td>69</td>\n",
       "      <td>6</td>\n",
       "      <td>20</td>\n",
       "      <td>14</td>\n",
       "      <td>87</td>\n",
       "      <td>11</td>\n",
       "      <td>2</td>\n",
       "      <td>32.0</td>\n",
       "      <td>58.0</td>\n",
       "      <td>13</td>\n",
       "      <td>5</td>\n",
       "      <td>8</td>\n",
       "    </tr>\n",
       "    <tr>\n",
       "      <th>1</th>\n",
       "      <td>2018</td>\n",
       "      <td>0</td>\n",
       "      <td>102</td>\n",
       "      <td>6</td>\n",
       "      <td>20</td>\n",
       "      <td>14</td>\n",
       "      <td>55</td>\n",
       "      <td>11</td>\n",
       "      <td>2</td>\n",
       "      <td>33.0</td>\n",
       "      <td>32.0</td>\n",
       "      <td>13</td>\n",
       "      <td>5</td>\n",
       "      <td>8</td>\n",
       "    </tr>\n",
       "    <tr>\n",
       "      <th>2</th>\n",
       "      <td>2018</td>\n",
       "      <td>0</td>\n",
       "      <td>102</td>\n",
       "      <td>6</td>\n",
       "      <td>20</td>\n",
       "      <td>14</td>\n",
       "      <td>55</td>\n",
       "      <td>14</td>\n",
       "      <td>5</td>\n",
       "      <td>20.0</td>\n",
       "      <td>58.0</td>\n",
       "      <td>38</td>\n",
       "      <td>2</td>\n",
       "      <td>8</td>\n",
       "    </tr>\n",
       "    <tr>\n",
       "      <th>3</th>\n",
       "      <td>2018</td>\n",
       "      <td>0</td>\n",
       "      <td>102</td>\n",
       "      <td>6</td>\n",
       "      <td>20</td>\n",
       "      <td>14</td>\n",
       "      <td>55</td>\n",
       "      <td>17</td>\n",
       "      <td>5</td>\n",
       "      <td>2.0</td>\n",
       "      <td>2.0</td>\n",
       "      <td>39</td>\n",
       "      <td>2</td>\n",
       "      <td>8</td>\n",
       "    </tr>\n",
       "    <tr>\n",
       "      <th>4</th>\n",
       "      <td>2018</td>\n",
       "      <td>0</td>\n",
       "      <td>102</td>\n",
       "      <td>6</td>\n",
       "      <td>20</td>\n",
       "      <td>14</td>\n",
       "      <td>55</td>\n",
       "      <td>21</td>\n",
       "      <td>5</td>\n",
       "      <td>2.0</td>\n",
       "      <td>58.0</td>\n",
       "      <td>38</td>\n",
       "      <td>2</td>\n",
       "      <td>8</td>\n",
       "    </tr>\n",
       "  </tbody>\n",
       "</table>\n",
       "</div>"
      ],
      "text/plain": [
       "   Year  App.  Taxon  Class  Order  Family  Genus  Importer  Exporter  \\\n",
       "0  2018     0     69      6     20      14     87        11         2   \n",
       "1  2018     0    102      6     20      14     55        11         2   \n",
       "2  2018     0    102      6     20      14     55        14         5   \n",
       "3  2018     0    102      6     20      14     55        17         5   \n",
       "4  2018     0    102      6     20      14     55        21         5   \n",
       "\n",
       "   Importer reported quantity  Exporter reported quantity  Term  Purpose  \\\n",
       "0                        32.0                        58.0    13        5   \n",
       "1                        33.0                        32.0    13        5   \n",
       "2                        20.0                        58.0    38        2   \n",
       "3                         2.0                         2.0    39        2   \n",
       "4                         2.0                        58.0    38        2   \n",
       "\n",
       "   Source  \n",
       "0       8  \n",
       "1       8  \n",
       "2       8  \n",
       "3       8  \n",
       "4       8  "
      ]
     },
     "execution_count": 15,
     "metadata": {},
     "output_type": "execute_result"
    }
   ],
   "source": [
    "df.head()"
   ]
  },
  {
   "cell_type": "code",
   "execution_count": 16,
   "id": "3d9d9048",
   "metadata": {},
   "outputs": [
    {
     "name": "stdout",
     "output_type": "stream",
     "text": [
      "<class 'pandas.core.frame.DataFrame'>\n",
      "Int64Index: 1870 entries, 0 to 1891\n",
      "Data columns (total 14 columns):\n",
      " #   Column                      Non-Null Count  Dtype  \n",
      "---  ------                      --------------  -----  \n",
      " 0   Year                        1870 non-null   int64  \n",
      " 1   App.                        1870 non-null   int32  \n",
      " 2   Taxon                       1870 non-null   int32  \n",
      " 3   Class                       1870 non-null   int32  \n",
      " 4   Order                       1870 non-null   int32  \n",
      " 5   Family                      1870 non-null   int32  \n",
      " 6   Genus                       1870 non-null   int32  \n",
      " 7   Importer                    1870 non-null   int32  \n",
      " 8   Exporter                    1870 non-null   int32  \n",
      " 9   Importer reported quantity  1870 non-null   float64\n",
      " 10  Exporter reported quantity  1870 non-null   float64\n",
      " 11  Term                        1870 non-null   int32  \n",
      " 12  Purpose                     1870 non-null   int32  \n",
      " 13  Source                      1870 non-null   int32  \n",
      "dtypes: float64(2), int32(11), int64(1)\n",
      "memory usage: 138.8 KB\n"
     ]
    }
   ],
   "source": [
    "df.info()"
   ]
  },
  {
   "cell_type": "markdown",
   "id": "f43dd6d0",
   "metadata": {},
   "source": [
    "### Exploratory Data Analysis (EDA)"
   ]
  },
  {
   "cell_type": "code",
   "execution_count": 17,
   "id": "e37c69d1",
   "metadata": {},
   "outputs": [
    {
     "data": {
      "text/html": [
       "<div>\n",
       "<style scoped>\n",
       "    .dataframe tbody tr th:only-of-type {\n",
       "        vertical-align: middle;\n",
       "    }\n",
       "\n",
       "    .dataframe tbody tr th {\n",
       "        vertical-align: top;\n",
       "    }\n",
       "\n",
       "    .dataframe thead th {\n",
       "        text-align: right;\n",
       "    }\n",
       "</style>\n",
       "<table border=\"1\" class=\"dataframe\">\n",
       "  <thead>\n",
       "    <tr style=\"text-align: right;\">\n",
       "      <th></th>\n",
       "      <th>Year</th>\n",
       "      <th>App.</th>\n",
       "      <th>Taxon</th>\n",
       "      <th>Class</th>\n",
       "      <th>Order</th>\n",
       "      <th>Family</th>\n",
       "      <th>Genus</th>\n",
       "      <th>Importer</th>\n",
       "      <th>Exporter</th>\n",
       "      <th>Importer reported quantity</th>\n",
       "      <th>Exporter reported quantity</th>\n",
       "      <th>Term</th>\n",
       "      <th>Purpose</th>\n",
       "      <th>Source</th>\n",
       "    </tr>\n",
       "  </thead>\n",
       "  <tbody>\n",
       "    <tr>\n",
       "      <th>count</th>\n",
       "      <td>1870.000000</td>\n",
       "      <td>1870.000000</td>\n",
       "      <td>1870.000000</td>\n",
       "      <td>1870.000000</td>\n",
       "      <td>1870.000000</td>\n",
       "      <td>1870.000000</td>\n",
       "      <td>1870.000000</td>\n",
       "      <td>1870.000000</td>\n",
       "      <td>1870.000000</td>\n",
       "      <td>1.870000e+03</td>\n",
       "      <td>1.870000e+03</td>\n",
       "      <td>1870.000000</td>\n",
       "      <td>1870.000000</td>\n",
       "      <td>1870.000000</td>\n",
       "    </tr>\n",
       "    <tr>\n",
       "      <th>mean</th>\n",
       "      <td>2019.347059</td>\n",
       "      <td>0.936898</td>\n",
       "      <td>102.152941</td>\n",
       "      <td>5.981283</td>\n",
       "      <td>13.433155</td>\n",
       "      <td>19.538503</td>\n",
       "      <td>56.649733</td>\n",
       "      <td>40.052406</td>\n",
       "      <td>3.188235</td>\n",
       "      <td>9.703322e+03</td>\n",
       "      <td>2.113982e+04</td>\n",
       "      <td>25.872727</td>\n",
       "      <td>6.297861</td>\n",
       "      <td>4.983957</td>\n",
       "    </tr>\n",
       "    <tr>\n",
       "      <th>std</th>\n",
       "      <td>1.080930</td>\n",
       "      <td>0.377649</td>\n",
       "      <td>47.558194</td>\n",
       "      <td>1.045857</td>\n",
       "      <td>9.886113</td>\n",
       "      <td>13.250331</td>\n",
       "      <td>28.696746</td>\n",
       "      <td>24.705942</td>\n",
       "      <td>1.809809</td>\n",
       "      <td>7.670619e+04</td>\n",
       "      <td>1.464204e+05</td>\n",
       "      <td>9.991428</td>\n",
       "      <td>2.636239</td>\n",
       "      <td>3.587142</td>\n",
       "    </tr>\n",
       "    <tr>\n",
       "      <th>min</th>\n",
       "      <td>2018.000000</td>\n",
       "      <td>0.000000</td>\n",
       "      <td>0.000000</td>\n",
       "      <td>0.000000</td>\n",
       "      <td>0.000000</td>\n",
       "      <td>0.000000</td>\n",
       "      <td>0.000000</td>\n",
       "      <td>0.000000</td>\n",
       "      <td>0.000000</td>\n",
       "      <td>2.000000e-03</td>\n",
       "      <td>1.000000e+00</td>\n",
       "      <td>0.000000</td>\n",
       "      <td>0.000000</td>\n",
       "      <td>0.000000</td>\n",
       "    </tr>\n",
       "    <tr>\n",
       "      <th>25%</th>\n",
       "      <td>2018.000000</td>\n",
       "      <td>1.000000</td>\n",
       "      <td>64.000000</td>\n",
       "      <td>6.000000</td>\n",
       "      <td>3.000000</td>\n",
       "      <td>8.000000</td>\n",
       "      <td>29.000000</td>\n",
       "      <td>18.000000</td>\n",
       "      <td>2.000000</td>\n",
       "      <td>3.200000e+01</td>\n",
       "      <td>1.500000e+01</td>\n",
       "      <td>19.000000</td>\n",
       "      <td>5.000000</td>\n",
       "      <td>1.000000</td>\n",
       "    </tr>\n",
       "    <tr>\n",
       "      <th>50%</th>\n",
       "      <td>2019.000000</td>\n",
       "      <td>1.000000</td>\n",
       "      <td>113.500000</td>\n",
       "      <td>6.000000</td>\n",
       "      <td>14.000000</td>\n",
       "      <td>16.000000</td>\n",
       "      <td>65.000000</td>\n",
       "      <td>37.000000</td>\n",
       "      <td>2.000000</td>\n",
       "      <td>3.300000e+01</td>\n",
       "      <td>5.800000e+01</td>\n",
       "      <td>23.000000</td>\n",
       "      <td>8.000000</td>\n",
       "      <td>8.000000</td>\n",
       "    </tr>\n",
       "    <tr>\n",
       "      <th>75%</th>\n",
       "      <td>2020.000000</td>\n",
       "      <td>1.000000</td>\n",
       "      <td>145.000000</td>\n",
       "      <td>6.000000</td>\n",
       "      <td>20.000000</td>\n",
       "      <td>28.000000</td>\n",
       "      <td>87.000000</td>\n",
       "      <td>67.000000</td>\n",
       "      <td>5.000000</td>\n",
       "      <td>3.570500e+01</td>\n",
       "      <td>2.030000e+02</td>\n",
       "      <td>35.000000</td>\n",
       "      <td>8.000000</td>\n",
       "      <td>8.000000</td>\n",
       "    </tr>\n",
       "    <tr>\n",
       "      <th>max</th>\n",
       "      <td>2021.000000</td>\n",
       "      <td>2.000000</td>\n",
       "      <td>184.000000</td>\n",
       "      <td>7.000000</td>\n",
       "      <td>31.000000</td>\n",
       "      <td>50.000000</td>\n",
       "      <td>100.000000</td>\n",
       "      <td>78.000000</td>\n",
       "      <td>6.000000</td>\n",
       "      <td>1.540000e+06</td>\n",
       "      <td>3.294000e+06</td>\n",
       "      <td>41.000000</td>\n",
       "      <td>9.000000</td>\n",
       "      <td>9.000000</td>\n",
       "    </tr>\n",
       "  </tbody>\n",
       "</table>\n",
       "</div>"
      ],
      "text/plain": [
       "              Year         App.        Taxon        Class        Order  \\\n",
       "count  1870.000000  1870.000000  1870.000000  1870.000000  1870.000000   \n",
       "mean   2019.347059     0.936898   102.152941     5.981283    13.433155   \n",
       "std       1.080930     0.377649    47.558194     1.045857     9.886113   \n",
       "min    2018.000000     0.000000     0.000000     0.000000     0.000000   \n",
       "25%    2018.000000     1.000000    64.000000     6.000000     3.000000   \n",
       "50%    2019.000000     1.000000   113.500000     6.000000    14.000000   \n",
       "75%    2020.000000     1.000000   145.000000     6.000000    20.000000   \n",
       "max    2021.000000     2.000000   184.000000     7.000000    31.000000   \n",
       "\n",
       "            Family        Genus     Importer     Exporter  \\\n",
       "count  1870.000000  1870.000000  1870.000000  1870.000000   \n",
       "mean     19.538503    56.649733    40.052406     3.188235   \n",
       "std      13.250331    28.696746    24.705942     1.809809   \n",
       "min       0.000000     0.000000     0.000000     0.000000   \n",
       "25%       8.000000    29.000000    18.000000     2.000000   \n",
       "50%      16.000000    65.000000    37.000000     2.000000   \n",
       "75%      28.000000    87.000000    67.000000     5.000000   \n",
       "max      50.000000   100.000000    78.000000     6.000000   \n",
       "\n",
       "       Importer reported quantity  Exporter reported quantity         Term  \\\n",
       "count                1.870000e+03                1.870000e+03  1870.000000   \n",
       "mean                 9.703322e+03                2.113982e+04    25.872727   \n",
       "std                  7.670619e+04                1.464204e+05     9.991428   \n",
       "min                  2.000000e-03                1.000000e+00     0.000000   \n",
       "25%                  3.200000e+01                1.500000e+01    19.000000   \n",
       "50%                  3.300000e+01                5.800000e+01    23.000000   \n",
       "75%                  3.570500e+01                2.030000e+02    35.000000   \n",
       "max                  1.540000e+06                3.294000e+06    41.000000   \n",
       "\n",
       "           Purpose       Source  \n",
       "count  1870.000000  1870.000000  \n",
       "mean      6.297861     4.983957  \n",
       "std       2.636239     3.587142  \n",
       "min       0.000000     0.000000  \n",
       "25%       5.000000     1.000000  \n",
       "50%       8.000000     8.000000  \n",
       "75%       8.000000     8.000000  \n",
       "max       9.000000     9.000000  "
      ]
     },
     "execution_count": 17,
     "metadata": {},
     "output_type": "execute_result"
    }
   ],
   "source": [
    "# get the summary statistics\n",
    "df.describe()"
   ]
  },
  {
   "cell_type": "code",
   "execution_count": 18,
   "id": "264f590c",
   "metadata": {
    "scrolled": true
   },
   "outputs": [
    {
     "data": {
      "image/png": "[encoded data removed]",
      "text/plain": [
       "<Figure size 1440x1440 with 16 Axes>"
      ]
     },
     "metadata": {
      "needs_background": "light"
     },
     "output_type": "display_data"
    }
   ],
   "source": [
    "import matplotlib.pyplot as plt\n",
    "# create histograms\n",
    "df.hist(bins=20, figsize=(20,20))\n",
    "plt.show()"
   ]
  },
  {
   "cell_type": "code",
   "execution_count": 19,
   "id": "9e005238",
   "metadata": {},
   "outputs": [
    {
     "name": "stdout",
     "output_type": "stream",
     "text": [
      "1    1596\n",
      "0     196\n",
      "2      78\n",
      "Name: App., dtype: int64\n",
      "84     121\n",
      "122    102\n",
      "64      90\n",
      "116     77\n",
      "58      67\n",
      "      ... \n",
      "25       1\n",
      "37       1\n",
      "2        1\n",
      "0        1\n",
      "158      1\n",
      "Name: Taxon, Length: 185, dtype: int64\n",
      "6    1263\n",
      "7     446\n",
      "3      98\n",
      "4      38\n",
      "0       9\n",
      "2       7\n",
      "1       5\n",
      "5       4\n",
      "Name: Class, dtype: int64\n",
      "19    314\n",
      "26    258\n",
      "3     237\n",
      "8     224\n",
      "2     157\n",
      "0     126\n",
      "31    114\n",
      "14     99\n",
      "5      70\n",
      "10     46\n",
      "20     43\n",
      "21     27\n",
      "17     22\n",
      "24     22\n",
      "1      21\n",
      "11     14\n",
      "23     12\n",
      "22      9\n",
      "13      8\n",
      "28      7\n",
      "9       7\n",
      "16      6\n",
      "27      5\n",
      "29      4\n",
      "4       4\n",
      "12      4\n",
      "6       2\n",
      "18      2\n",
      "7       2\n",
      "15      2\n",
      "25      1\n",
      "30      1\n",
      "Name: Order, dtype: int64\n",
      "8     271\n",
      "5     237\n",
      "28    224\n",
      "9     210\n",
      "16    123\n",
      "21    121\n",
      "47    107\n",
      "29     99\n",
      "12     68\n",
      "35     46\n",
      "14     43\n",
      "23     28\n",
      "25     28\n",
      "38     27\n",
      "43     22\n",
      "41     22\n",
      "17     15\n",
      "20     14\n",
      "49     13\n",
      "42     12\n",
      "6      11\n",
      "45     11\n",
      "50     11\n",
      "7      10\n",
      "40      9\n",
      "24      8\n",
      "27      8\n",
      "44      7\n",
      "0       7\n",
      "26      6\n",
      "48      6\n",
      "11      5\n",
      "33      4\n",
      "22      4\n",
      "39      4\n",
      "3       3\n",
      "19      3\n",
      "34      2\n",
      "37      2\n",
      "2       2\n",
      "15      2\n",
      "4       2\n",
      "31      2\n",
      "18      2\n",
      "13      2\n",
      "30      2\n",
      "32      1\n",
      "36      1\n",
      "46      1\n",
      "1       1\n",
      "10      1\n",
      "Name: Family, dtype: int64\n",
      "87    214\n",
      "97    160\n",
      "46    121\n",
      "66    117\n",
      "67    106\n",
      "     ... \n",
      "6       1\n",
      "36      1\n",
      "75      1\n",
      "96      1\n",
      "3       1\n",
      "Name: Genus, Length: 101, dtype: int64\n",
      "73    302\n",
      "47    168\n",
      "17    107\n",
      "18     90\n",
      "13     89\n",
      "     ... \n",
      "33      1\n",
      "78      1\n",
      "48      1\n",
      "44      1\n",
      "36      1\n",
      "Name: Importer, Length: 79, dtype: int64\n",
      "2    700\n",
      "5    637\n",
      "1    356\n",
      "6    165\n",
      "3      5\n",
      "4      4\n",
      "0      3\n",
      "Name: Exporter, dtype: int64\n",
      "19    655\n",
      "38    300\n",
      "35    226\n",
      "34    118\n",
      "27     84\n",
      "20     75\n",
      "32     69\n",
      "8      40\n",
      "33     38\n",
      "3      38\n",
      "36     35\n",
      "41     22\n",
      "10     22\n",
      "18     19\n",
      "17     18\n",
      "0      13\n",
      "23     11\n",
      "1      10\n",
      "30      9\n",
      "11      8\n",
      "39      8\n",
      "37      7\n",
      "7       6\n",
      "2       4\n",
      "14      3\n",
      "15      3\n",
      "25      3\n",
      "31      3\n",
      "4       2\n",
      "24      2\n",
      "40      2\n",
      "26      2\n",
      "13      2\n",
      "6       2\n",
      "16      2\n",
      "28      2\n",
      "12      2\n",
      "5       1\n",
      "22      1\n",
      "21      1\n",
      "29      1\n",
      "9       1\n",
      "Name: Term, dtype: int64\n",
      "8    1178\n",
      "2     416\n",
      "7     148\n",
      "5      61\n",
      "0      23\n",
      "1      23\n",
      "9      15\n",
      "3       4\n",
      "4       1\n",
      "6       1\n",
      "Name: Purpose, dtype: int64\n",
      "8    1065\n",
      "1     365\n",
      "0     334\n",
      "3      46\n",
      "4      27\n",
      "6      15\n",
      "5      13\n",
      "7       2\n",
      "9       2\n",
      "2       1\n",
      "Name: Source, dtype: int64\n"
     ]
    }
   ],
   "source": [
    "# get the count of unique values in each categorical feature\n",
    "print(df['App.'].value_counts())\n",
    "print(df['Taxon'].value_counts())\n",
    "print(df['Class'].value_counts())\n",
    "print(df['Order'].value_counts())\n",
    "print(df['Family'].value_counts())\n",
    "print(df['Genus'].value_counts())\n",
    "print(df['Importer'].value_counts())\n",
    "print(df['Exporter'].value_counts())\n",
    "print(df['Term'].value_counts())\n",
    "print(df['Purpose'].value_counts())\n",
    "print(df['Source'].value_counts())"
   ]
  },
  {
   "cell_type": "markdown",
   "id": "17161d97",
   "metadata": {},
   "source": [
    "#### Scatter plot: Importer reported quantity against Exporter reported quantity."
   ]
  },
  {
   "cell_type": "code",
   "execution_count": 20,
   "id": "0638190f",
   "metadata": {},
   "outputs": [
    {
     "data": {
      "image/png": "[encoded data removed]",
      "text/plain": [
       "<Figure size 720x576 with 1 Axes>"
      ]
     },
     "metadata": {
      "needs_background": "light"
     },
     "output_type": "display_data"
    }
   ],
   "source": [
    "import seaborn as sns\n",
    "import matplotlib.pyplot as plt\n",
    "\n",
    "fig, ax = plt.subplots(figsize=(10, 8))\n",
    "\n",
    "sns.scatterplot(data=df, x=\"Importer reported quantity\", y=\"Exporter reported quantity\")\n",
    "plt.show()"
   ]
  },
  {
   "cell_type": "code",
   "execution_count": 21,
   "id": "1ee94407",
   "metadata": {},
   "outputs": [
    {
     "name": "stdout",
     "output_type": "stream",
     "text": [
      "0.16071246305294204\n"
     ]
    }
   ],
   "source": [
    "corr_coefficient = df['Importer reported quantity'].corr(df['Exporter reported quantity'])\n",
    "\n",
    "print(corr_coefficient)"
   ]
  },
  {
   "cell_type": "markdown",
   "id": "d848b359",
   "metadata": {},
   "source": [
    "From the scatter plot and value of correlation coefficient, there is a weak positive correlation between 'Importer reported quantity' and 'Exporter reported quantity'"
   ]
  },
  {
   "cell_type": "markdown",
   "id": "68c8de1c",
   "metadata": {},
   "source": [
    "#### Grouped box plot: A grouped box plot for the Importer reported quantity for each Term."
   ]
  },
  {
   "cell_type": "code",
   "execution_count": 22,
   "id": "a48865d1",
   "metadata": {},
   "outputs": [
    {
     "data": {
      "image/png": "[encoded data removed]",
      "text/plain": [
       "<Figure size 1440x576 with 1 Axes>"
      ]
     },
     "metadata": {
      "needs_background": "light"
     },
     "output_type": "display_data"
    }
   ],
   "source": [
    "import matplotlib.pyplot as plt\n",
    "\n",
    "plt.figure(figsize=(20, 8)) # set the figure size to be 10 inches wide and 6 inches tall\n",
    "\n",
    "# create the grouped bar plot\n",
    "plt.bar(x=df.index, height=df['Importer reported quantity'], width=0.35, label='Import')\n",
    "plt.bar(x=df.index + 0.35, height=df['Exporter reported quantity'], width=0.35, label='Export')\n",
    "\n",
    "# add labels and titles\n",
    "plt.xlabel('Taxon')\n",
    "plt.ylabel('Quantity')\n",
    "plt.title('Total Import and Export Quantity by Taxon')\n",
    "plt.xticks(rotation=45)\n",
    "\n",
    "plt.legend() # show the legend\n",
    "\n",
    "plt.show() # display the plot"
   ]
  },
  {
   "cell_type": "markdown",
   "id": "fe1b1781",
   "metadata": {},
   "source": [
    "## 3. Feature Selection: \n",
    "Identifying the most relevant and significant features that can be used to train the machine learning models. This can be done using techniques such as correlation analysis, principal component analysis, and feature importance ranking."
   ]
  },
  {
   "cell_type": "markdown",
   "id": "255f295c",
   "metadata": {},
   "source": [
    "For feature selection, one suitable technique for this dataset is correlation analysis. Correlation analysis is a statistical technique used to determine the strength and direction of the relationship between two variables. In this case, we can use it to identify which features have a strong correlation with the target variable, and therefore should be included in the machine learning model.\n",
    "\n",
    "The first step is to create a correlation matrix using the corr() method in Pandas. This will show the correlation coefficients between all pairs of numeric columns in the dataset."
   ]
  },
  {
   "cell_type": "markdown",
   "id": "94a219b3",
   "metadata": {},
   "source": [
    "In this code, we first compute the correlation matrix using the corr() function. We then create a heatmap using the heatmap() function of the seaborn library. The annot parameter is set to True to display the correlation coefficients on the heatmap, and the cmap parameter is set to 'coolwarm' to use a color map that goes from blue to red. Finally, we show the plot using the show() function of the matplotlib library."
   ]
  },
  {
   "cell_type": "code",
   "execution_count": 23,
   "id": "b4517ffa",
   "metadata": {},
   "outputs": [
    {
     "data": {
      "image/png": "[encoded data removed]",
      "text/plain": [
       "<Figure size 864x720 with 2 Axes>"
      ]
     },
     "metadata": {
      "needs_background": "light"
     },
     "output_type": "display_data"
    }
   ],
   "source": [
    "import seaborn as sns\n",
    "import matplotlib.pyplot as plt\n",
    "\n",
    "# set figure size\n",
    "plt.figure(figsize=(12, 10))\n",
    "\n",
    "# create correlation matrix\n",
    "corr_matrix = df.corr().round(2)\n",
    "\n",
    "# create heatmap\n",
    "sns.heatmap(data=corr_matrix, annot=True, cmap='coolwarm')\n",
    "\n",
    "# show plot\n",
    "plt.show()"
   ]
  },
  {
   "cell_type": "markdown",
   "id": "35a3c2a1",
   "metadata": {},
   "source": [
    "<b>Identify the correlation coefficients between each feature and the target variable</b>:\n",
    "here are the steps involved:\n",
    "\n",
    "1. Identify the correlation coefficients between each feature and the target variable ('taxon'). This is done by selecting the 'Taxon' column from the original dataset and then using the pandas 'corrwith' function to calculate the correlation coefficients between the 'Taxon' column and all the other columns in the dataset.\n",
    "\n",
    "2. Select the top 'n' features with the highest absolute correlation coefficients. In this step, we will choose the top 'n' features with the highest absolute correlation coefficients to include in our final dataset. This will help us to identify the most significant features that are likely to have a strong impact on the target variable.\n",
    "\n",
    "3. Create a new dataset with the selected features and the target variable. Once we have identified the top 'n' features with the highest absolute correlation coefficients, we will create a new dataset that includes these features as well as the target variable ('Taxon')."
   ]
  },
  {
   "cell_type": "code",
   "execution_count": 24,
   "id": "9183fa81",
   "metadata": {},
   "outputs": [],
   "source": [
    "# Step 1: Identify the correlation coefficients between each feature and the target variable\n",
    "target_col = 'Taxon'\n",
    "correlations = df.corrwith(df[target_col])\n",
    "\n",
    "# Step 2: Select the top 'n' features with the highest absolute correlation coefficients\n",
    "n = 5\n",
    "top_n_features = correlations.abs().nlargest(n + 1).index.tolist()\n",
    "top_n_features.remove(target_col)\n",
    "\n",
    "# Step 3: Create a new dataset with the selected features and the target variable\n",
    "new_df = df[top_n_features + [target_col]]\n"
   ]
  },
  {
   "cell_type": "markdown",
   "id": "b9af70c1",
   "metadata": {},
   "source": [
    "In the above code, we first identify the correlation coefficients between each feature and the target variable ('Taxon') by using the 'corrwith' function. Then, we select the top 5 features with the highest absolute correlation coefficients using the 'nlargest' function, and remove the target variable from the list of top features. Finally, we create a new dataset with the selected features and the target variable."
   ]
  },
  {
   "cell_type": "code",
   "execution_count": 26,
   "id": "d06ec4ef",
   "metadata": {
    "scrolled": true
   },
   "outputs": [
    {
     "data": {
      "text/html": [
       "<div>\n",
       "<style scoped>\n",
       "    .dataframe tbody tr th:only-of-type {\n",
       "        vertical-align: middle;\n",
       "    }\n",
       "\n",
       "    .dataframe tbody tr th {\n",
       "        vertical-align: top;\n",
       "    }\n",
       "\n",
       "    .dataframe thead th {\n",
       "        text-align: right;\n",
       "    }\n",
       "</style>\n",
       "<table border=\"1\" class=\"dataframe\">\n",
       "  <thead>\n",
       "    <tr style=\"text-align: right;\">\n",
       "      <th></th>\n",
       "      <th>Genus</th>\n",
       "      <th>Source</th>\n",
       "      <th>Purpose</th>\n",
       "      <th>Order</th>\n",
       "      <th>Class</th>\n",
       "      <th>Taxon</th>\n",
       "    </tr>\n",
       "  </thead>\n",
       "  <tbody>\n",
       "    <tr>\n",
       "      <th>0</th>\n",
       "      <td>87</td>\n",
       "      <td>8</td>\n",
       "      <td>5</td>\n",
       "      <td>20</td>\n",
       "      <td>6</td>\n",
       "      <td>69</td>\n",
       "    </tr>\n",
       "    <tr>\n",
       "      <th>1</th>\n",
       "      <td>55</td>\n",
       "      <td>8</td>\n",
       "      <td>5</td>\n",
       "      <td>20</td>\n",
       "      <td>6</td>\n",
       "      <td>102</td>\n",
       "    </tr>\n",
       "    <tr>\n",
       "      <th>2</th>\n",
       "      <td>55</td>\n",
       "      <td>8</td>\n",
       "      <td>2</td>\n",
       "      <td>20</td>\n",
       "      <td>6</td>\n",
       "      <td>102</td>\n",
       "    </tr>\n",
       "    <tr>\n",
       "      <th>3</th>\n",
       "      <td>55</td>\n",
       "      <td>8</td>\n",
       "      <td>2</td>\n",
       "      <td>20</td>\n",
       "      <td>6</td>\n",
       "      <td>102</td>\n",
       "    </tr>\n",
       "    <tr>\n",
       "      <th>4</th>\n",
       "      <td>55</td>\n",
       "      <td>8</td>\n",
       "      <td>2</td>\n",
       "      <td>20</td>\n",
       "      <td>6</td>\n",
       "      <td>102</td>\n",
       "    </tr>\n",
       "  </tbody>\n",
       "</table>\n",
       "</div>"
      ],
      "text/plain": [
       "   Genus  Source  Purpose  Order  Class  Taxon\n",
       "0     87       8        5     20      6     69\n",
       "1     55       8        5     20      6    102\n",
       "2     55       8        2     20      6    102\n",
       "3     55       8        2     20      6    102\n",
       "4     55       8        2     20      6    102"
      ]
     },
     "execution_count": 26,
     "metadata": {},
     "output_type": "execute_result"
    }
   ],
   "source": [
    "new_df.head()"
   ]
  },
  {
   "cell_type": "code",
   "execution_count": 69,
   "id": "b1473733",
   "metadata": {},
   "outputs": [
    {
     "name": "stdout",
     "output_type": "stream",
     "text": [
      "<class 'pandas.core.frame.DataFrame'>\n",
      "Int64Index: 1870 entries, 0 to 1891\n",
      "Data columns (total 6 columns):\n",
      " #   Column   Non-Null Count  Dtype\n",
      "---  ------   --------------  -----\n",
      " 0   Genus    1870 non-null   int32\n",
      " 1   Source   1870 non-null   int32\n",
      " 2   Purpose  1870 non-null   int32\n",
      " 3   Order    1870 non-null   int32\n",
      " 4   Class    1870 non-null   int32\n",
      " 5   Taxon    1870 non-null   int32\n",
      "dtypes: int32(6)\n",
      "memory usage: 58.4 KB\n"
     ]
    }
   ],
   "source": [
    "new_df.info()"
   ]
  },
  {
   "cell_type": "markdown",
   "id": "1e29ca5b",
   "metadata": {},
   "source": [
    "## 4.\tModel Selection: \n",
    "Selecting suitable machine learning algorithms for developing the classification models. Algorithms such as decision trees, random forests, and support vector machines are commonly used for classification tasks."
   ]
  },
  {
   "cell_type": "markdown",
   "id": "081111ca",
   "metadata": {},
   "source": [
    "The choice of machine learning algorithm(s) depends on the characteristics of the dataset and the specific classification problem at hand. However, some commonly used algorithms for classification tasks include decision trees, random forests, and support vector machines (SVM).\n",
    "\n",
    "In our case, we have a relatively small dataset with 1870 entries and 6 features, which makes it suitable for tree-based algorithms such as decision trees and random forests. These algorithms are also interpretable, which can be useful for understanding how the model makes its predictions and for identifying important features.\n",
    "\n",
    "SVMs are also a good choice for classification tasks and can handle high-dimensional datasets. However, they can be computationally expensive and may not perform well on small datasets.\n",
    "\n",
    "Therefore, based on the characteristics of our dataset and the classification problem, decision trees and random forests would be suitable machine learning algorithms to develop classification models for identifying wildlife species in East Africa."
   ]
  },
  {
   "cell_type": "markdown",
   "id": "070d1a43",
   "metadata": {},
   "source": [
    "<b>Decision trees vs random forests:</b>\n",
    "<p>Both decision trees and random forests are tree-based models, meaning that they are constructed using decision trees. Random forests are an ensemble of decision trees. Therefore, if you use random forests, you are essentially using decision trees as well.\n",
    "\n",
    "Random forests are known to perform better than a single decision tree because they reduce overfitting and increase accuracy. This is achieved by creating multiple decision trees and averaging their results. Therefore, you could use random forests instead of decision trees, or you could compare the performance of both models and choose the one that performs better on your dataset."
   ]
  },
  {
   "cell_type": "markdown",
   "id": "e109c318",
   "metadata": {},
   "source": [
    "Based on our dataset and research topic, we are using Random Forests algorithm for developing the classification model. This is because Random Forests are known to perform well on a variety of datasets, handle missing data and outliers well, and can handle a large number of features without overfitting. Additionally, they are known to be robust to noise and non-linear relationships between features and the target variable, which may be present in your dataset."
   ]
  },
  {
   "cell_type": "markdown",
   "id": "2a41865d",
   "metadata": {},
   "source": [
    "## 5.\tModel Training: \n",
    "Training the selected machine learning algorithms using the pre-processed dataset to develop the classification models."
   ]
  },
  {
   "cell_type": "markdown",
   "id": "58354d35",
   "metadata": {},
   "source": [
    "<b>Split the dataset into training and testing sets.</b>\n",
    "We will use the training set to train the model and the testing set to evaluate its performance."
   ]
  },
  {
   "cell_type": "code",
   "execution_count": 70,
   "id": "b2b5144f",
   "metadata": {},
   "outputs": [],
   "source": [
    "from sklearn.model_selection import train_test_split\n",
    "\n",
    "X = new_df.drop('Taxon', axis=1)\n",
    "y = new_df['Taxon']\n",
    "\n",
    "X_train, X_test, y_train, y_test = train_test_split(X, y, test_size=0.2, random_state=42)"
   ]
  },
  {
   "cell_type": "markdown",
   "id": "f15b8274",
   "metadata": {},
   "source": [
    "Import the random forest classifier from scikit-learn and initialize it with default hyperparameters."
   ]
  },
  {
   "cell_type": "code",
   "execution_count": 71,
   "id": "c4b9eb3a",
   "metadata": {},
   "outputs": [],
   "source": [
    "from sklearn.ensemble import RandomForestClassifier\n",
    "\n",
    "rf_clf = RandomForestClassifier(random_state=42)\n",
    "rf_clf.fit(X_train, y_train)"
   ]
  },
  {
   "cell_type": "markdown",
   "id": "87ac68ac",
   "metadata": {},
   "source": [
    "Train the random forest classifier on the training set."
   ]
  },
  {
   "cell_type": "code",
   "execution_count": 72,
   "id": "ab68046f",
   "metadata": {},
   "outputs": [
    {
     "data": {
      "text/plain": [
       "RandomForestClassifier(random_state=42)"
      ]
     },
     "execution_count": 72,
     "metadata": {},
     "output_type": "execute_result"
    }
   ],
   "source": [
    "rf_clf.fit(X_train, y_train)"
   ]
  },
  {
   "cell_type": "markdown",
   "id": "a7670ecd",
   "metadata": {},
   "source": [
    "Evaluate the performance of the trained model on the testing set."
   ]
  },
  {
   "cell_type": "code",
   "execution_count": 73,
   "id": "92d0af37",
   "metadata": {},
   "outputs": [
    {
     "name": "stdout",
     "output_type": "stream",
     "text": [
      "Accuracy: 0.6336898395721925\n"
     ]
    }
   ],
   "source": [
    "from sklearn.metrics import accuracy_score\n",
    "\n",
    "y_pred = rf_clf.predict(X_test)\n",
    "accuracy = accuracy_score(y_test, y_pred)\n",
    "print(f\"Accuracy: {accuracy}\")"
   ]
  },
  {
   "cell_type": "markdown",
   "id": "07dca88f",
   "metadata": {},
   "source": [
    "Tune the hyperparameters of the random forest classifier using techniques like grid search or randomized search to improve its performance."
   ]
  },
  {
   "cell_type": "code",
   "execution_count": 74,
   "id": "7d29c102",
   "metadata": {},
   "outputs": [
    {
     "name": "stderr",
     "output_type": "stream",
     "text": [
      "C:\\Users\\HUDSON\\anaconda3\\lib\\site-packages\\sklearn\\model_selection\\_split.py:676: UserWarning: The least populated class in y has only 1 members, which is less than n_splits=5.\n",
      "  warnings.warn(\n"
     ]
    },
    {
     "name": "stdout",
     "output_type": "stream",
     "text": [
      "Best parameters: {'n_estimators': 100, 'min_samples_split': 2, 'min_samples_leaf': 1, 'max_depth': None}\n",
      "Best score: 0.6684526198439242\n"
     ]
    }
   ],
   "source": [
    "from sklearn.model_selection import RandomizedSearchCV\n",
    "\n",
    "param_distributions = {\n",
    "    'n_estimators': [100, 200, 500],\n",
    "    'max_depth': [None, 10, 20],\n",
    "    'min_samples_split': [2, 5, 10],\n",
    "    'min_samples_leaf': [1, 2, 4]\n",
    "}\n",
    "\n",
    "random_search = RandomizedSearchCV(\n",
    "    rf_clf, param_distributions, n_iter=10, cv=5, scoring='accuracy', random_state=42)\n",
    "random_search.fit(X_train, y_train)\n",
    "\n",
    "best_params = random_search.best_params_\n",
    "best_score = random_search.best_score_\n",
    "print(f\"Best parameters: {best_params}\")\n",
    "print(f\"Best score: {best_score}\")"
   ]
  },
  {
   "cell_type": "markdown",
   "id": "6460b73b",
   "metadata": {},
   "source": [
    "Train a new random forest classifier using the best hyperparameters."
   ]
  },
  {
   "cell_type": "code",
   "execution_count": 75,
   "id": "e2f282e5",
   "metadata": {},
   "outputs": [
    {
     "data": {
      "text/plain": [
       "RandomForestClassifier(random_state=42)"
      ]
     },
     "execution_count": 75,
     "metadata": {},
     "output_type": "execute_result"
    }
   ],
   "source": [
    "best_rf_clf = RandomForestClassifier(\n",
    "    n_estimators=best_params['n_estimators'],\n",
    "    max_depth=best_params['max_depth'],\n",
    "    min_samples_split=best_params['min_samples_split'],\n",
    "    min_samples_leaf=best_params['min_samples_leaf'],\n",
    "    random_state=42)\n",
    "\n",
    "best_rf_clf.fit(X_train, y_train)"
   ]
  },
  {
   "cell_type": "markdown",
   "id": "c40c7d5f",
   "metadata": {},
   "source": [
    "Evaluate the performance of the tuned model on the testing set."
   ]
  },
  {
   "cell_type": "code",
   "execution_count": 76,
   "id": "2acba0a7",
   "metadata": {},
   "outputs": [
    {
     "name": "stdout",
     "output_type": "stream",
     "text": [
      "Tuned Model Accuracy: 0.6336898395721925\n"
     ]
    }
   ],
   "source": [
    "y_pred = best_rf_clf.predict(X_test)\n",
    "accuracy = accuracy_score(y_test, y_pred)\n",
    "print(f\"Tuned Model Accuracy: {accuracy}\")"
   ]
  },
  {
   "cell_type": "markdown",
   "id": "d13e4262",
   "metadata": {},
   "source": [
    "## 6.\tModel Evaluation:\n",
    "Evaluating the performance of the developed classification models using various metrics such as accuracy, precision, recall, and F1-score. Cross-validation techniques such as k-fold cross-validation can be used to ensure that the models are robust and not overfitting to the training data."
   ]
  },
  {
   "cell_type": "markdown",
   "id": "4893029c",
   "metadata": {},
   "source": [
    "<b>NOTE:</b> The accuracy of our model is 0.63, which means that the model correctly predicts the wildlife species around 63% of the time. While this accuracy is not very high, it is a decent starting point. However, we should keep in mind that accuracy alone may not be the best metric to evaluate the performance of a classification model, especially when the dataset is imbalanced or the misclassification of certain classes is more costly than others. Therefore, we should also consider other metrics such as precision, recall, F1 score, and confusion matrix to better evaluate the performance of our model.\n",
    "    "
   ]
  },
  {
   "cell_type": "markdown",
   "id": "78ea04cb",
   "metadata": {},
   "source": [
    "In our case, we have multiple classes of wildlife species, and the distribution of the classes might not be balanced.\n",
    "\n",
    "Therefore, we should consider other metrics such as precision, recall, and F1-score, which provide more information on the model's performance, especially when dealing with imbalanced datasets. These metrics can help us understand the model's ability to correctly identify each class and avoid misclassification. Additionally, we can also use a confusion matrix to visualize the distribution of the predicted classes and the actual classes."
   ]
  },
  {
   "cell_type": "markdown",
   "id": "657cbd57",
   "metadata": {},
   "source": [
    "#### let's start with precision:\n",
    "\n",
    "Precision is a metric that measures the proportion of true positives (i.e., the number of correctly predicted positive instances) over the total number of predicted positive instances. It is used to evaluate the classifier's ability to correctly classify positive instances.\n",
    "\n",
    "Here's how to calculate precision for our model:\n",
    "- We first import the recall_score function from sklearn.metrics.\n",
    "- We then call the function, passing in the test labels (y_test) and predicted labels (y_pred) as inputs, and setting the average parameter to 'weighted' to account for class imbalance.\n",
    "- The function returns the recall score, which we assign to the recall variable.\n",
    "- Finally, we print the recall score."
   ]
  },
  {
   "cell_type": "code",
   "execution_count": 77,
   "id": "ffbb5a57",
   "metadata": {},
   "outputs": [
    {
     "name": "stdout",
     "output_type": "stream",
     "text": [
      "Precision: 0.5659967328484501\n"
     ]
    },
    {
     "name": "stderr",
     "output_type": "stream",
     "text": [
      "C:\\Users\\HUDSON\\anaconda3\\lib\\site-packages\\sklearn\\metrics\\_classification.py:1318: UndefinedMetricWarning: Precision is ill-defined and being set to 0.0 in labels with no predicted samples. Use `zero_division` parameter to control this behavior.\n",
      "  _warn_prf(average, modifier, msg_start, len(result))\n"
     ]
    }
   ],
   "source": [
    "from sklearn.metrics import precision_score\n",
    "\n",
    "# Calculate precision\n",
    "precision = precision_score(y_test, y_pred, average='weighted')\n",
    "\n",
    "# Print precision\n",
    "print(\"Precision: {}\".format(precision))"
   ]
  },
  {
   "cell_type": "markdown",
   "id": "16998163",
   "metadata": {},
   "source": [
    "A high precision score indicates that the model has a low false positive rate.\n",
    "\n",
    "In our case, the precision score of 0.5659 indicates that out of all the positive predictions made by the model, 56.6% were true positive predictions. This means that the model has a moderate accuracy in identifying the correct wildlife species in East Africa.\n",
    "\n",
    "Note that we have used the weighted averaging method to calculate precision score. This is because we have multiple classes in our target variable and the weighted method calculates precision score for each class and then takes the weighted average based on the number of samples in each class."
   ]
  },
  {
   "cell_type": "markdown",
   "id": "7eea9090",
   "metadata": {},
   "source": [
    "#### Next, let's calculate recall:\n",
    "\n",
    "Recall is a metric that measures the proportion of true positives over the total number of actual positive instances. It is used to evaluate the classifier's ability to correctly identify positive instances.\n",
    "\n",
    "Here's how to calculate recall for our model:\n",
    "- We first import the recall_score function from sklearn.metrics.\n",
    "- We then call the function, passing in the test labels (y_test) and predicted labels (y_pred) as inputs, and setting the average parameter to 'weighted' to account for class imbalance.\n",
    "- The function returns the recall score, which we assign to the recall variable.\n",
    "- Finally, we print the recall score."
   ]
  },
  {
   "cell_type": "code",
   "execution_count": 78,
   "id": "72c62580",
   "metadata": {},
   "outputs": [
    {
     "name": "stdout",
     "output_type": "stream",
     "text": [
      "Recall: 0.6336898395721925\n"
     ]
    },
    {
     "name": "stderr",
     "output_type": "stream",
     "text": [
      "C:\\Users\\HUDSON\\anaconda3\\lib\\site-packages\\sklearn\\metrics\\_classification.py:1318: UndefinedMetricWarning: Recall is ill-defined and being set to 0.0 in labels with no true samples. Use `zero_division` parameter to control this behavior.\n",
      "  _warn_prf(average, modifier, msg_start, len(result))\n"
     ]
    }
   ],
   "source": [
    "from sklearn.metrics import recall_score\n",
    "\n",
    "# Calculate recall\n",
    "recall = recall_score(y_test, y_pred, average='weighted')\n",
    "\n",
    "# Print recall\n",
    "print(\"Recall: {}\".format(recall))"
   ]
  },
  {
   "cell_type": "markdown",
   "id": "93fa4293",
   "metadata": {},
   "source": [
    "Below is a heatmap of the confusion matrix with predicted labels on the x-axis and true labels on the y-axis. The cells of the matrix will be annotated with the count of observations in each cell, and the color of the cells will correspond to the count using a blue color map. The plot will be displayed with the title \"Confusion Matrix\"."
   ]
  },
  {
   "cell_type": "markdown",
   "id": "8ad977ca",
   "metadata": {},
   "source": [
    "Based on the confusion matrix, the recall score is 0.6336898395721925. Recall is a metric that measures the proportion of actual positive cases that were correctly identified by the model. In the context of our classification model, recall represents the proportion of actual species that were correctly classified by the model.\n",
    "\n",
    "The recall score of 0.633 indicates that the model is able to correctly identify about 63% of the actual species. This means that the model is not as effective in identifying all the different species in the dataset and may be biased towards certain species. Therefore, while the model's overall accuracy is moderate, there is still room for improvement in terms of identifying all the different species accurately."
   ]
  },
  {
   "cell_type": "markdown",
   "id": "c319040d",
   "metadata": {},
   "source": [
    "#### Next, let's calculate F1 score:\n",
    "\n",
    "F1 score is a metric that combines precision and recall into a single score. It is calculated as the harmonic mean of precision and recall.\n",
    "\n",
    "Here's how you can calculate F1 score for our model:\n",
    "- We first import the f1_score function from sklearn.metrics.\n",
    "- We then call the function, passing in the test labels (y_test) and predicted labels (y_pred) as inputs, and setting the average parameter to 'weighted' to account for class imbalance.\n",
    "- The function returns the F1 score, which we assign to the f1 variable.\n",
    "- Finally, we print the F1 score."
   ]
  },
  {
   "cell_type": "code",
   "execution_count": 79,
   "id": "c5ae23d6",
   "metadata": {},
   "outputs": [
    {
     "name": "stdout",
     "output_type": "stream",
     "text": [
      "F1 Score: 0.5734269604458031\n"
     ]
    }
   ],
   "source": [
    "from sklearn.metrics import f1_score\n",
    "\n",
    "# Calculate F1 score\n",
    "f1 = f1_score(y_test, y_pred, average='weighted')\n",
    "\n",
    "# Print F1 score\n",
    "print(\"F1 Score: {}\".format(f1))"
   ]
  },
  {
   "cell_type": "markdown",
   "id": "366cf891",
   "metadata": {},
   "source": [
    "The F1 score is a harmonic mean of precision and recall, and it provides a single score that balances both precision and recall. A high F1 score indicates that the model has good performance in terms of both precision and recall. \n",
    "\n",
    "In this case, the F1 score is 0.573, which is not very high, indicating that the model's performance is not optimal. This suggests that there may be room for improvement in the feature selection, model selection, or hyperparameter tuning to achieve a better-performing model. It is important to note that the F1 score should be considered in combination with other evaluation metrics to get a comprehensive understanding of the model's performance."
   ]
  },
  {
   "cell_type": "markdown",
   "id": "6ddfaf60",
   "metadata": {},
   "source": [
    "#### Lastly, let's calculate the confusion matrix:\n",
    "\n",
    "The confusion matrix is a table that summarizes the classification results for a classifier. It shows the number of true positives, false positives, true negatives, and false negatives.\n",
    "\n",
    "Here's how you can calculate the confusion matrix for our model:\n",
    "- We first import the confusion_matrix function from sklearn.metrics.\n",
    "- We then call the function, passing in the test labels (y_test) and predicted labels (y_pred) as inputs.\n",
    "- The function returns the confusion matrix, which we assign to the cm variable.\n",
    "- Finally, we print the confusion matrix."
   ]
  },
  {
   "cell_type": "code",
   "execution_count": 80,
   "id": "ab0d4917",
   "metadata": {},
   "outputs": [
    {
     "name": "stdout",
     "output_type": "stream",
     "text": [
      "Confusion Matrix:\n",
      "[[0 1 0 ... 0 0 0]\n",
      " [0 7 0 ... 0 0 0]\n",
      " [0 0 0 ... 0 0 0]\n",
      " ...\n",
      " [0 0 0 ... 1 0 0]\n",
      " [0 0 0 ... 0 0 0]\n",
      " [0 0 0 ... 0 0 1]]\n"
     ]
    }
   ],
   "source": [
    "from sklearn.metrics import confusion_matrix\n",
    "\n",
    "# Calculate confusion matrix\n",
    "cm = confusion_matrix(y_test, y_pred)\n",
    "\n",
    "# Print confusion matrix\n",
    "print(\"Confusion Matrix:\\n{}\".format(cm))"
   ]
  },
  {
   "cell_type": "markdown",
   "id": "2d4889f1",
   "metadata": {},
   "source": [
    "The confusion matrix is a table that summarizes the performance of a classification model. It shows the number of correct and incorrect predictions for each class of the classification problem. In this case, the confusion matrix shows the number of true positives, false positives, true negatives, and false negatives for each taxon class in the dataset.\n",
    "\n",
    "\n",
    "Looking at the confusion matrix, we can see that there are a significant number of false negatives, particularly for class 2 and class 7. This means that the model is not correctly identifying many of the species in these classes. On the other hand, the model appears to be performing better for classes 1, 4, and 5, as there are relatively few false negatives and false positives for these classes."
   ]
  },
  {
   "cell_type": "markdown",
   "id": "aabb7a4e",
   "metadata": {},
   "source": [
    "### Baseline Score:\n",
    "To calculate the baseline score, we will use the most frequent class in the target variable 'taxon'. This will serve as a benchmark for our model to perform better than the baseline.\n",
    "\n",
    "A baseline score represents the performance of a naive or simple model that can be used as a benchmark to evaluate the performance of more complex models. It's important to establish a baseline to determine if the machine learning model is actually learning anything or just making random predictions.\n",
    "\n",
    "The baseline score can be calculated by using simple methods such as random guessing, predicting the most frequent class, or using a basic statistical method. It is important to compare the performance of your model against the baseline score to determine if your model is performing better than random or simple predictions."
   ]
  },
  {
   "cell_type": "code",
   "execution_count": 83,
   "id": "811c97f6",
   "metadata": {},
   "outputs": [
    {
     "name": "stdout",
     "output_type": "stream",
     "text": [
      "The baseline score is 8.02%.\n"
     ]
    }
   ],
   "source": [
    "import pandas as pd\n",
    "from sklearn.dummy import DummyClassifier\n",
    "from sklearn.model_selection import train_test_split\n",
    "\n",
    "# Define the target variable and the features\n",
    "target = 'Taxon'\n",
    "features = ['Genus', 'Source', 'Purpose', 'Order', 'Class']\n",
    "\n",
    "# Split the dataset into training and testing sets\n",
    "train, test = train_test_split(new_df, test_size=0.2, random_state=42)\n",
    "\n",
    "# Instantiate the DummyClassifier with 'most_frequent' strategy\n",
    "dummy = DummyClassifier(strategy='most_frequent')\n",
    "\n",
    "# Fit the dummy classifier on the training data\n",
    "dummy.fit(train[features], train[target])\n",
    "\n",
    "# Calculate the accuracy score on the testing data\n",
    "baseline_score = dummy.score(test[features], test[target])\n",
    "\n",
    "print(f'The baseline score is {baseline_score:.2%}.')"
   ]
  },
  {
   "cell_type": "markdown",
   "id": "63f6222b",
   "metadata": {},
   "source": [
    "Great! Our model accuracy is much better than the baseline score.\n",
    "\n",
    "To interpret these scores, the baseline score represents the accuracy achieved by a naive model that simply predicts the most frequent class for all instances in the dataset. Therefore, any model with an accuracy score above the baseline is considered to be useful. In our case, the model accuracy of 0.6337 means that the model is correctly predicting the target variable around 63.37% of the time."
   ]
  },
  {
   "cell_type": "code",
   "execution_count": null,
   "id": "b00f7734",
   "metadata": {},
   "outputs": [],
   "source": []
  }
 ],
 "metadata": {
  "kernelspec": {
   "display_name": "Python 3 (ipykernel)",
   "language": "python",
   "name": "python3"
  },
  "language_info": {
   "codemirror_mode": {
    "name": "ipython",
    "version": 3
   },
   "file_extension": ".py",
   "mimetype": "text/x-python",
   "name": "python",
   "nbconvert_exporter": "python",
   "pygments_lexer": "ipython3",
   "version": "3.9.12"
  }
 },
 "nbformat": 4,
 "nbformat_minor": 5
}
